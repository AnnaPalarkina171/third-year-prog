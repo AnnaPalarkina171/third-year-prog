{
  "nbformat": 4,
  "nbformat_minor": 0,
  "metadata": {
    "kernelspec": {
      "display_name": "Python 3",
      "language": "python",
      "name": "python3"
    },
    "language_info": {
      "codemirror_mode": {
        "name": "ipython",
        "version": 3
      },
      "file_extension": ".py",
      "mimetype": "text/x-python",
      "name": "python",
      "nbconvert_exporter": "python",
      "pygments_lexer": "ipython3",
      "version": "3.7.4"
    },
    "colab": {
      "name": "KR2.ipynb",
      "provenance": []
    }
  },
  "cells": [
    {
      "cell_type": "markdown",
      "metadata": {
        "id": "K_LU23XXps-t",
        "colab_type": "text"
      },
      "source": [
        "**Введение** Представим, что вы хотите разработать модель, анализирующую тональность текста. \n",
        "\n",
        "Вы загрузили датасет..."
      ]
    },
    {
      "cell_type": "code",
      "metadata": {
        "id": "72fxlhgqps-v",
        "colab_type": "code",
        "colab": {}
      },
      "source": [
        "import pandas as pd\n",
        "import numpy as np\n",
        "from sklearn.model_selection import train_test_split\n",
        "from sklearn.feature_extraction.text import CountVectorizer\n",
        "from sklearn.model_selection import GridSearchCV, KFold\n",
        "from sklearn.ensemble import RandomForestClassifier\n",
        "from sklearn.decomposition import PCA\n",
        "from sklearn.pipeline import Pipeline"
      ],
      "execution_count": 0,
      "outputs": []
    },
    {
      "cell_type": "code",
      "metadata": {
        "scrolled": true,
        "id": "wM6DFSJXps-0",
        "colab_type": "code",
        "colab": {}
      },
      "source": [
        "df = pd.read_csv('https://raw.githubusercontent.com/esolovev/ling2019/master/module2/twi_data.csv', encoding='utf-8', sep=';').head(4000) #Инече падает"
      ],
      "execution_count": 0,
      "outputs": []
    },
    {
      "cell_type": "code",
      "metadata": {
        "id": "nk0PjsKaps-5",
        "colab_type": "code",
        "colab": {
          "base_uri": "https://localhost:8080/",
          "height": 195
        },
        "outputId": "262f6f8d-17c0-4089-e0b7-f98a2a70f568"
      },
      "source": [
        "df.head()"
      ],
      "execution_count": 4,
      "outputs": [
        {
          "output_type": "execute_result",
          "data": {
            "text/html": [
              "<div>\n",
              "<style scoped>\n",
              "    .dataframe tbody tr th:only-of-type {\n",
              "        vertical-align: middle;\n",
              "    }\n",
              "\n",
              "    .dataframe tbody tr th {\n",
              "        vertical-align: top;\n",
              "    }\n",
              "\n",
              "    .dataframe thead th {\n",
              "        text-align: right;\n",
              "    }\n",
              "</style>\n",
              "<table border=\"1\" class=\"dataframe\">\n",
              "  <thead>\n",
              "    <tr style=\"text-align: right;\">\n",
              "      <th></th>\n",
              "      <th>target</th>\n",
              "      <th>date</th>\n",
              "      <th>text</th>\n",
              "    </tr>\n",
              "  </thead>\n",
              "  <tbody>\n",
              "    <tr>\n",
              "      <th>0</th>\n",
              "      <td>4</td>\n",
              "      <td>Tue Jun 02 02:59:24 PDT 2009</td>\n",
              "      <td>@JackAllTimeLow hope it went good! i couldnt m...</td>\n",
              "    </tr>\n",
              "    <tr>\n",
              "      <th>1</th>\n",
              "      <td>0</td>\n",
              "      <td>Sat Jun 06 00:25:20 PDT 2009</td>\n",
              "      <td>@SDI8732 Idk how to do it!!!</td>\n",
              "    </tr>\n",
              "    <tr>\n",
              "      <th>2</th>\n",
              "      <td>0</td>\n",
              "      <td>Fri Jun 05 12:07:23 PDT 2009</td>\n",
              "      <td>@kmwindmill is here ! woop woop , would be bet...</td>\n",
              "    </tr>\n",
              "    <tr>\n",
              "      <th>3</th>\n",
              "      <td>4</td>\n",
              "      <td>Mon Jun 01 14:55:06 PDT 2009</td>\n",
              "      <td>@Daydreamer1984 He explains the tailer better</td>\n",
              "    </tr>\n",
              "    <tr>\n",
              "      <th>4</th>\n",
              "      <td>0</td>\n",
              "      <td>Sat Jun 20 15:39:44 PDT 2009</td>\n",
              "      <td>still trying to get a pic on this twitter thin...</td>\n",
              "    </tr>\n",
              "  </tbody>\n",
              "</table>\n",
              "</div>"
            ],
            "text/plain": [
              "   target  ...                                               text\n",
              "0       4  ...  @JackAllTimeLow hope it went good! i couldnt m...\n",
              "1       0  ...                      @SDI8732 Idk how to do it!!! \n",
              "2       0  ...  @kmwindmill is here ! woop woop , would be bet...\n",
              "3       4  ...     @Daydreamer1984 He explains the tailer better \n",
              "4       0  ...  still trying to get a pic on this twitter thin...\n",
              "\n",
              "[5 rows x 3 columns]"
            ]
          },
          "metadata": {
            "tags": []
          },
          "execution_count": 4
        }
      ]
    },
    {
      "cell_type": "code",
      "metadata": {
        "id": "XANp4cf-ps-_",
        "colab_type": "code",
        "colab": {}
      },
      "source": [
        "y = df['target'].replace(4, 1)\n",
        "\n",
        "del df['date']\n",
        "del df['target']"
      ],
      "execution_count": 0,
      "outputs": []
    },
    {
      "cell_type": "code",
      "metadata": {
        "id": "DL6t6OjUps_D",
        "colab_type": "code",
        "colab": {
          "base_uri": "https://localhost:8080/",
          "height": 195
        },
        "outputId": "4110c3a7-365f-4342-e8f9-53ee56de2526"
      },
      "source": [
        "df.head()"
      ],
      "execution_count": 5,
      "outputs": [
        {
          "output_type": "execute_result",
          "data": {
            "text/html": [
              "<div>\n",
              "<style scoped>\n",
              "    .dataframe tbody tr th:only-of-type {\n",
              "        vertical-align: middle;\n",
              "    }\n",
              "\n",
              "    .dataframe tbody tr th {\n",
              "        vertical-align: top;\n",
              "    }\n",
              "\n",
              "    .dataframe thead th {\n",
              "        text-align: right;\n",
              "    }\n",
              "</style>\n",
              "<table border=\"1\" class=\"dataframe\">\n",
              "  <thead>\n",
              "    <tr style=\"text-align: right;\">\n",
              "      <th></th>\n",
              "      <th>text</th>\n",
              "    </tr>\n",
              "  </thead>\n",
              "  <tbody>\n",
              "    <tr>\n",
              "      <th>0</th>\n",
              "      <td>@JackAllTimeLow hope it went good! i couldnt m...</td>\n",
              "    </tr>\n",
              "    <tr>\n",
              "      <th>1</th>\n",
              "      <td>@SDI8732 Idk how to do it!!!</td>\n",
              "    </tr>\n",
              "    <tr>\n",
              "      <th>2</th>\n",
              "      <td>@kmwindmill is here ! woop woop , would be bet...</td>\n",
              "    </tr>\n",
              "    <tr>\n",
              "      <th>3</th>\n",
              "      <td>@Daydreamer1984 He explains the tailer better</td>\n",
              "    </tr>\n",
              "    <tr>\n",
              "      <th>4</th>\n",
              "      <td>still trying to get a pic on this twitter thin...</td>\n",
              "    </tr>\n",
              "  </tbody>\n",
              "</table>\n",
              "</div>"
            ],
            "text/plain": [
              "                                                text\n",
              "0  @JackAllTimeLow hope it went good! i couldnt m...\n",
              "1                      @SDI8732 Idk how to do it!!! \n",
              "2  @kmwindmill is here ! woop woop , would be bet...\n",
              "3     @Daydreamer1984 He explains the tailer better \n",
              "4  still trying to get a pic on this twitter thin..."
            ]
          },
          "metadata": {
            "tags": []
          },
          "execution_count": 5
        }
      ]
    },
    {
      "cell_type": "code",
      "metadata": {
        "id": "W8BVTrMfps_I",
        "colab_type": "code",
        "colab": {
          "base_uri": "https://localhost:8080/",
          "height": 218
        },
        "outputId": "7f30e030-e4e0-4bfa-b4cf-f013db7a7a7d"
      },
      "source": [
        "y"
      ],
      "execution_count": 6,
      "outputs": [
        {
          "output_type": "execute_result",
          "data": {
            "text/plain": [
              "0        1\n",
              "1        0\n",
              "2        0\n",
              "3        1\n",
              "4        0\n",
              "        ..\n",
              "39995    1\n",
              "39996    1\n",
              "39997    1\n",
              "39998    0\n",
              "39999    0\n",
              "Name: target, Length: 40000, dtype: int64"
            ]
          },
          "metadata": {
            "tags": []
          },
          "execution_count": 6
        }
      ]
    },
    {
      "cell_type": "markdown",
      "metadata": {
        "id": "6BH42Zuups_O",
        "colab_type": "text"
      },
      "source": [
        "... выделили из него какие-то признаки ..."
      ]
    },
    {
      "cell_type": "code",
      "metadata": {
        "id": "5sU2WbkWps_P",
        "colab_type": "code",
        "colab": {
          "base_uri": "https://localhost:8080/",
          "height": 151
        },
        "outputId": "2618d217-b984-48b1-99a3-3d92a26389df"
      },
      "source": [
        "transformed_texts = CountVectorizer(stop_words='english',\n",
        "                                    max_df=0.95,\n",
        "                                    min_df=3,\n",
        "                                    ngram_range=(1,3),\n",
        "                                    analyzer='word',).\\\n",
        "                    fit_transform(df.text.values).\\\n",
        "                    toarray() #конвертируем из разреженной матрицы в обычную, потому что PCA в sklearn не поддерживает sparse матрицы\n",
        "\n",
        "print(transformed_texts.shape)\n",
        "transformed_texts"
      ],
      "execution_count": 71,
      "outputs": [
        {
          "output_type": "stream",
          "text": [
            "(4000, 1894)\n"
          ],
          "name": "stdout"
        },
        {
          "output_type": "execute_result",
          "data": {
            "text/plain": [
              "array([[0, 0, 0, ..., 0, 0, 0],\n",
              "       [0, 0, 0, ..., 0, 0, 0],\n",
              "       [0, 0, 0, ..., 0, 0, 0],\n",
              "       ...,\n",
              "       [0, 0, 0, ..., 0, 0, 0],\n",
              "       [0, 0, 0, ..., 0, 0, 0],\n",
              "       [0, 0, 0, ..., 0, 0, 0]])"
            ]
          },
          "metadata": {
            "tags": []
          },
          "execution_count": 71
        }
      ]
    },
    {
      "cell_type": "markdown",
      "metadata": {
        "id": "ldJfHvFNps_T",
        "colab_type": "text"
      },
      "source": [
        "... и разделили выборку на обучающую и тестовую."
      ]
    },
    {
      "cell_type": "code",
      "metadata": {
        "id": "qsb-MM7Qps_U",
        "colab_type": "code",
        "colab": {}
      },
      "source": [
        "X_train, X_test, y_train, y_test = train_test_split(transformed_texts, y, train_size=0.5, stratify=y, random_state=123)"
      ],
      "execution_count": 0,
      "outputs": []
    },
    {
      "cell_type": "markdown",
      "metadata": {
        "id": "UTPzrSrSps_X",
        "colab_type": "text"
      },
      "source": [
        "А теперь посмотрим, как долго будет обучаться, например, случайный лес."
      ]
    },
    {
      "cell_type": "code",
      "metadata": {
        "scrolled": true,
        "id": "bagWN57sps_Y",
        "colab_type": "code",
        "colab": {},
        "outputId": "1cd7be2d-f494-44a4-94b5-98a7fb549dad"
      },
      "source": [
        "%%time\n",
        "\n",
        "RandomForestClassifier(n_estimators=100, n_jobs=-1).fit(X_train, y_train)"
      ],
      "execution_count": 0,
      "outputs": [
        {
          "output_type": "stream",
          "text": [
            "CPU times: user 16min 41s, sys: 10.8 s, total: 16min 52s\n",
            "Wall time: 3min 43s\n"
          ],
          "name": "stdout"
        },
        {
          "output_type": "execute_result",
          "data": {
            "text/plain": [
              "RandomForestClassifier(bootstrap=True, ccp_alpha=0.0, class_weight=None,\n",
              "                       criterion='gini', max_depth=None, max_features='auto',\n",
              "                       max_leaf_nodes=None, max_samples=None,\n",
              "                       min_impurity_decrease=0.0, min_impurity_split=None,\n",
              "                       min_samples_leaf=1, min_samples_split=2,\n",
              "                       min_weight_fraction_leaf=0.0, n_estimators=100,\n",
              "                       n_jobs=-1, oob_score=False, random_state=None, verbose=0,\n",
              "                       warm_start=False)"
            ]
          },
          "metadata": {
            "tags": []
          },
          "execution_count": 11
        }
      ]
    },
    {
      "cell_type": "markdown",
      "metadata": {
        "id": "S4FbSt_Hps_c",
        "colab_type": "text"
      },
      "source": [
        "4 минуты - это слишком долго (причём это время обучения на 8-ядерном процессоре). \n",
        "\n",
        "А если уменьшить размерность?"
      ]
    },
    {
      "cell_type": "code",
      "metadata": {
        "scrolled": true,
        "id": "RivmQfqjps_d",
        "colab_type": "code",
        "colab": {},
        "outputId": "2888bcad-fd40-4176-da0d-691d74ae0e0f"
      },
      "source": [
        "%%time\n",
        "\n",
        "pca = PCA(n_components=150)\n",
        "reducted_train = pca.fit_transform(X_train)"
      ],
      "execution_count": 0,
      "outputs": [
        {
          "output_type": "stream",
          "text": [
            "CPU times: user 1min 37s, sys: 4.33 s, total: 1min 41s\n",
            "Wall time: 55.9 s\n"
          ],
          "name": "stdout"
        }
      ]
    },
    {
      "cell_type": "code",
      "metadata": {
        "id": "Ks8Y90MXps_l",
        "colab_type": "code",
        "colab": {},
        "outputId": "30b4bd80-0b36-4a05-e610-ba954e186be9"
      },
      "source": [
        "reducted_train.shape"
      ],
      "execution_count": 0,
      "outputs": [
        {
          "output_type": "execute_result",
          "data": {
            "text/plain": [
              "(20000, 150)"
            ]
          },
          "metadata": {
            "tags": []
          },
          "execution_count": 13
        }
      ]
    },
    {
      "cell_type": "code",
      "metadata": {
        "id": "TEi5FVLJps_p",
        "colab_type": "code",
        "colab": {},
        "outputId": "60d10ba9-d3ea-455f-bf4a-05af1b8463e7"
      },
      "source": [
        "%%time\n",
        "\n",
        "RandomForestClassifier(n_estimators=100, n_jobs=-1).fit(reducted_train, y_train)"
      ],
      "execution_count": 0,
      "outputs": [
        {
          "output_type": "stream",
          "text": [
            "CPU times: user 31.5 s, sys: 183 ms, total: 31.7 s\n",
            "Wall time: 5.83 s\n"
          ],
          "name": "stdout"
        },
        {
          "output_type": "execute_result",
          "data": {
            "text/plain": [
              "RandomForestClassifier(bootstrap=True, ccp_alpha=0.0, class_weight=None,\n",
              "                       criterion='gini', max_depth=None, max_features='auto',\n",
              "                       max_leaf_nodes=None, max_samples=None,\n",
              "                       min_impurity_decrease=0.0, min_impurity_split=None,\n",
              "                       min_samples_leaf=1, min_samples_split=2,\n",
              "                       min_weight_fraction_leaf=0.0, n_estimators=100,\n",
              "                       n_jobs=-1, oob_score=False, random_state=None, verbose=0,\n",
              "                       warm_start=False)"
            ]
          },
          "metadata": {
            "tags": []
          },
          "execution_count": 16
        }
      ]
    },
    {
      "cell_type": "markdown",
      "metadata": {
        "id": "OAS7UwjXps_t",
        "colab_type": "text"
      },
      "source": [
        "Уже лучше (если мы один раз уменьшаем размерность, а затем обучаем много разных моделек на получившемся датасете, среднее время на обучение получается сильно лучше даже с учетом того, что мы потратили минуту на PCA). А вот посмотреть, насколько ухудшается или улучшается качество при использовании PCA - ваша задача.\n",
        "\n",
        "*Совет*: можете сначала написать код для меньшего количества параметров, решающее все задание, отладить его, а уже потом запустить его на всех параметрах. Так вы сэкономите время, затрачиваемое на обучение.\n",
        "\n",
        "**Задание 1**\n",
        "Возьмите 5 различных значений для числа главных компонент в PCA. Для каждого из данных значений параметров решающего леса выберите лучшую модель с помощью GridSearchCV на 3 фолдах (**важно**: чтобы графики из второго задания были корректны, вам нужно, чтобы разбиение на фолды было одинаковое для всех значений числа компонент). Используйте accuracy как метрику качества.\n",
        "\n",
        "* max_depth: 3, 6, 9, 12, 50\n",
        "* n_estimators: 25, 50, 75, 100\n",
        "\n",
        "\n",
        "**Задание 2**\n",
        "Отобразите на одной картинке два графика (по оси X отложено число главных компонент в PCA):\n",
        "\n",
        "1) Качество лучшей модели на тестовой выборке\n",
        "\n",
        "2) Среднее качество на 3 фолдах при подборе параметров (для лучшей модели)\n",
        "\n",
        "3) Общая доля объяснённой дисперсии для выбранного числа компонент (для лучшей модели)."
      ]
    },
    {
      "cell_type": "code",
      "metadata": {
        "id": "UIbYMr-Pps_t",
        "colab_type": "code",
        "colab": {
          "base_uri": "https://localhost:8080/",
          "height": 70
        },
        "outputId": "fae37c51-6ee8-4014-d703-6cdf31340f9d"
      },
      "source": [
        "pipeline = Pipeline([\n",
        "    ('pca', PCA()),\n",
        "    ('predict', RandomForestClassifier())\n",
        "])\n",
        "\n",
        "params = {\n",
        "    'pca__n_components': [1, 2, 3, 4, 5], \n",
        "    'predict__max_depth': [3, 6, 9, 12, 50], \n",
        "    'predict__n_estimators': [25, 50, 75, 100] \n",
        "}\n",
        "\n",
        "kf = KFold(n_splits=3, random_state = 35862)\n",
        "\n",
        "grid = GridSearchCV(pipeline, params,cv=kf)\n",
        "grid_result = grid.fit(X_train, y_train)"
      ],
      "execution_count": 73,
      "outputs": [
        {
          "output_type": "stream",
          "text": [
            "/usr/local/lib/python3.6/dist-packages/sklearn/model_selection/_split.py:296: FutureWarning: Setting a random_state has no effect since shuffle is False. This will raise an error in 0.24. You should leave random_state to its default (None), or set shuffle=True.\n",
            "  FutureWarning\n"
          ],
          "name": "stderr"
        }
      ]
    },
    {
      "cell_type": "code",
      "metadata": {
        "id": "kXop3CgiwU5u",
        "colab_type": "code",
        "colab": {
          "base_uri": "https://localhost:8080/",
          "height": 34
        },
        "outputId": "eab5e61b-fce0-4f8a-8aae-244915ebbf04"
      },
      "source": [
        "# model = RandomForestClassifier( n_estimators = grid_result.best_params_['predict__n_estimators'],max_depth = grid_result.best_params_['predict__max_depth'] )\n",
        "# pca = PCA(n_components= grid_result.best_params_['pca__n_components'])\n",
        "# reducted_train = pca.fit_transform(X_train)\n",
        "# reducted_test = pca.fit_transform(X_test)\n",
        "# model.fit(reducted_train, y_train)\n",
        "# print('Accuracy: ',model.score(reducted_test,y_test))"
      ],
      "execution_count": 18,
      "outputs": [
        {
          "output_type": "stream",
          "text": [
            "Accuracy:  0.5833333333333334\n"
          ],
          "name": "stdout"
        }
      ]
    },
    {
      "cell_type": "code",
      "metadata": {
        "id": "ydQwj0TXxruR",
        "colab_type": "code",
        "colab": {
          "base_uri": "https://localhost:8080/",
          "height": 277
        },
        "outputId": "c1c90001-eca3-4d3c-a605-1925b8d5e204"
      },
      "source": [
        "# import matplotlib.pyplot as plt\n",
        "# scores =[]\n",
        "# for x in [1, 2, 3, 4, 5]:\n",
        "#   model = RandomForestClassifier( n_estimators = grid_result.best_params_['predict__n_estimators'],max_depth = grid_result.best_params_['predict__max_depth'], random_state = 54345)\n",
        "#   pca = PCA(n_components= x)\n",
        "#   reducted_train = pca.fit_transform(X_train)\n",
        "#   reducted_test = pca.fit_transform(X_test)\n",
        "#   model.fit(reducted_train, y_train)\n",
        "#   scores.append(model.score(reducted_test,y_test))\n",
        "\n",
        "\n",
        "# plt.style.use('seaborn-whitegrid')\n",
        "# x = [1, 2, 3, 4, 5]\n",
        "# y = scores\n",
        "# plt.ylabel('Качество лучшей модели на тестовой выборке')\n",
        "# plt.xlabel('Число главных компонент в PCA')\n",
        "# plt.plot(x, y, 'o', color='black');"
      ],
      "execution_count": 59,
      "outputs": [
        {
          "output_type": "display_data",
          "data": {
            "image/png": "[encoded data removed]",
            "text/plain": [
              "<Figure size 432x288 with 1 Axes>"
            ]
          },
          "metadata": {
            "tags": []
          }
        }
      ]
    },
    {
      "cell_type": "code",
      "metadata": {
        "id": "yRYYYNRvBi06",
        "colab_type": "code",
        "colab": {
          "base_uri": "https://localhost:8080/",
          "height": 276
        },
        "outputId": "f6000e27-f956-4b17-b8d5-b4fc77856e6b"
      },
      "source": [
        "import statistics\n",
        "means = [] \n",
        "max_cross = []\n",
        "ratio = []\n",
        "\n",
        "for x in [1, 2, 3, 4, 5]:\n",
        "  model = RandomForestClassifier( n_estimators = grid_result.best_params_['predict__n_estimators'],max_depth = grid_result.best_params_['predict__max_depth'], random_state = 54345)\n",
        "  pca = PCA(n_components= x)\n",
        "  reducted_train = pca.fit_transform(X_train)\n",
        "  reducted_test = pca.fit_transform(X_test)\n",
        "  cross = cross_val_score(model, reducted_train, y_train, cv=kf)\n",
        "  max_cross.append(max(cross))\n",
        "  mean = statistics.mean(cross) \n",
        "  means.append(mean)\n",
        "\n",
        "  ratio.append(pca.explained_variance_ratio_.mean())\n",
        "\n",
        "\n",
        "plt.style.use('seaborn-whitegrid')\n",
        "x = [1, 2, 3, 4, 5]\n",
        "y = means\n",
        "plt.ylabel('Качество')\n",
        "plt.xlabel('Число главных компонент в PCA')\n",
        "plt.plot(x, y, 'o', color='black');\n",
        "\n",
        "plt.style.use('seaborn-whitegrid')\n",
        "x = [1, 2, 3, 4, 5]\n",
        "y = max_cross\n",
        "plt.ylabel('Качество')\n",
        "plt.xlabel('Число главных компонент в PCA')\n",
        "plt.plot(x, y, 'o', color='blue');\n",
        "\n",
        "\n"
      ],
      "execution_count": 91,
      "outputs": [
        {
          "output_type": "display_data",
          "data": {
            "image/png": "[encoded data removed]",
            "text/plain": [
              "<Figure size 432x288 with 1 Axes>"
            ]
          },
          "metadata": {
            "tags": []
          }
        }
      ]
    },
    {
      "cell_type": "code",
      "metadata": {
        "id": "XhUBRQGnM5FQ",
        "colab_type": "code",
        "colab": {
          "base_uri": "https://localhost:8080/",
          "height": 276
        },
        "outputId": "56c08c37-d4b4-466b-e628-225526f0e407"
      },
      "source": [
        "#когда появляется третий график, некрасиво получается\n",
        "plt.style.use('seaborn-whitegrid')\n",
        "x = [1, 2, 3, 4, 5]\n",
        "y = means\n",
        "plt.ylabel('Качество')\n",
        "plt.xlabel('Число главных компонент в PCA')\n",
        "plt.plot(x, y, 'o', color='black');\n",
        "\n",
        "plt.style.use('seaborn-whitegrid')\n",
        "x = [1, 2, 3, 4, 5]\n",
        "y = max_cross\n",
        "plt.ylabel('Качество')\n",
        "plt.xlabel('Число главных компонент в PCA')\n",
        "plt.plot(x, y, 'o', color='blue');\n",
        "\n",
        "plt.style.use('seaborn-whitegrid')\n",
        "x = [1, 2, 3, 4, 5]\n",
        "y = ratio\n",
        "plt.ylabel('Качество')\n",
        "plt.xlabel('Число главных компонент в PCA')\n",
        "plt.plot(x, y, 'o', color='red');"
      ],
      "execution_count": 90,
      "outputs": [
        {
          "output_type": "display_data",
          "data": {
            "image/png": "[encoded data removed]",
            "text/plain": [
              "<Figure size 432x288 with 1 Axes>"
            ]
          },
          "metadata": {
            "tags": []
          }
        }
      ]
    }
  ]
}