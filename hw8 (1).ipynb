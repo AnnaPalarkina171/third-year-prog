{
  "nbformat": 4,
  "nbformat_minor": 0,
  "metadata": {
    "colab": {
      "name": "hw8.ipynb",
      "provenance": [],
      "collapsed_sections": []
    },
    "kernelspec": {
      "name": "python3",
      "display_name": "Python 3"
    }
  },
  "cells": [
    {
      "cell_type": "code",
      "metadata": {
        "id": "Iht2LGN_urtY",
        "colab_type": "code",
        "colab": {}
      },
      "source": [
        "import numpy as np\n",
        "import pandas as pd\n",
        "from sklearn.model_selection import train_test_split\n",
        "from sklearn.metrics import f1_score, classification_report, \\\n",
        "    accuracy_score\n",
        "from sklearn.feature_extraction.text import CountVectorizer, \\\n",
        "    TfidfVectorizer\n",
        "from sklearn.linear_model import LogisticRegression\n",
        "from sklearn.naive_bayes import MultinomialNB\n",
        "from scipy.sparse import coo_matrix, hstack\n",
        "from scipy.sparse.csr import csr_matrix\n",
        "from sklearn.model_selection import GridSearchCV\n",
        "from sklearn.svm import SVC\n",
        "import nltk\n",
        "import io\n",
        "from nltk.corpus import stopwords\n",
        "import spacy \n",
        "import en_core_web_md\n",
        "nlp = en_core_web_md.load()\n",
        "\n",
        "nltk.download('stopwords')\n",
        "nltk.download('wordnet')\n",
        "\n",
        "df = \\\n",
        "    pd.read_csv('https://raw.githubusercontent.com/esolovev/ling2019/master/mo\\\n",
        "dule2/twi_data.csv', sep=';')\n",
        "\n",
        "!python -m spacy download en_core_web_md\n"
      ],
      "execution_count": null,
      "outputs": []
    },
    {
      "cell_type": "code",
      "metadata": {
        "id": "WKMDYoBV5Vwd",
        "colab_type": "code",
        "colab": {}
      },
      "source": [
        "SEED = 227\n",
        "np.random.seed(SEED)\n",
        "df_train, df_test = train_test_split(df, train_size=0.2, test_size=0.1,\n",
        "                                     stratify=df.target, random_state=SEED)\n",
        "y_train = df_train.target\n",
        "y_test = df_test.target\n",
        "\n",
        "\n",
        "def score(model):\n",
        "    y_pred = model.predict(X_test)\n",
        "    print(f'Accuracy: {accuracy_score(y_pred, y_test)}')\n",
        "    return classification_report(y_test, y_pred)\n"
      ],
      "execution_count": 2,
      "outputs": []
    },
    {
      "cell_type": "markdown",
      "metadata": {
        "id": "Ro9GM6OaDr6H",
        "colab_type": "text"
      },
      "source": [
        "Baseline 1"
      ]
    },
    {
      "cell_type": "code",
      "metadata": {
        "id": "YWpxMTMHDs8t",
        "colab_type": "code",
        "colab": {
          "base_uri": "https://localhost:8080/",
          "height": 353
        },
        "outputId": "9c14c908-90f8-4a91-80b2-8be4ff70c3d0"
      },
      "source": [
        "count_vectorizer = CountVectorizer()\n",
        "X_train = count_vectorizer.fit_transform(df_train.text)\n",
        "X_test = count_vectorizer.transform(df_test.text)\n",
        "model = MultinomialNB()\n",
        "model.fit(X_train, y_train)\n",
        "\n",
        "print(score(model))\n",
        "\n",
        "tfidf_vectorizer = TfidfVectorizer()\n",
        "X_train = tfidf_vectorizer.fit_transform(df_train.text)\n",
        "X_test = tfidf_vectorizer.transform(df_test.text)\n",
        "model.fit(X_train, y_train)\n",
        "\n",
        "print(score(model))\n"
      ],
      "execution_count": 3,
      "outputs": [
        {
          "output_type": "stream",
          "text": [
            "Accuracy: 0.73875\n",
            "              precision    recall  f1-score   support\n",
            "\n",
            "           0       0.71      0.82      0.76      2000\n",
            "           4       0.78      0.66      0.72      2000\n",
            "\n",
            "    accuracy                           0.74      4000\n",
            "   macro avg       0.74      0.74      0.74      4000\n",
            "weighted avg       0.74      0.74      0.74      4000\n",
            "\n",
            "Accuracy: 0.7405\n",
            "              precision    recall  f1-score   support\n",
            "\n",
            "           0       0.70      0.83      0.76      2000\n",
            "           4       0.79      0.65      0.71      2000\n",
            "\n",
            "    accuracy                           0.74      4000\n",
            "   macro avg       0.75      0.74      0.74      4000\n",
            "weighted avg       0.75      0.74      0.74      4000\n",
            "\n"
          ],
          "name": "stdout"
        }
      ]
    },
    {
      "cell_type": "markdown",
      "metadata": {
        "id": "ji0H9grmICfa",
        "colab_type": "text"
      },
      "source": [
        "Baseline 2\n"
      ]
    },
    {
      "cell_type": "code",
      "metadata": {
        "id": "Ig7LDFN8HwUo",
        "colab_type": "code",
        "colab": {
          "base_uri": "https://localhost:8080/",
          "height": 353
        },
        "outputId": "b153257f-b411-4d38-9cce-086fe5e2e2eb"
      },
      "source": [
        "tfidf_vectorizer = TfidfVectorizer()\n",
        "X_train = tfidf_vectorizer.fit_transform(df_train.text)\n",
        "X_test = tfidf_vectorizer.transform(df_test.text)\n",
        "model = LogisticRegression(random_state=SEED, solver='liblinear')\n",
        "model.fit(X_train, y_train)\n",
        "print(score(model))\n",
        "\n",
        "# param_grid = { 'C': [5,10,15,20],\n",
        "#                'solver': ['newton-cg', 'lbfgs', 'liblinear', 'sag', 'saga']}\n",
        "# grid = GridSearchCV(estimator=LogisticRegression(random_state=SEED,\n",
        "#                        max_iter = 1000),\n",
        "#                       param_grid=param_grid,\n",
        "#                      cv = 10)\n",
        "# model = grid.fit(X_train, y_train)\n",
        "# print(score(model))\n",
        "\n",
        "stop_words = stopwords.words('russian')\n",
        "tfidf_vectorizer = TfidfVectorizer(stop_words=stop_words,\n",
        "                                   analyzer='char_wb',\n",
        "                                   lowercase=True,\n",
        "                                   ngram_range=(2, 5),\n",
        "                                   max_df=0.95,\n",
        "                                   min_df=4,\n",
        "                                   norm='l2',\n",
        "                                   use_idf=True)\n",
        "X_train = tfidf_vectorizer.fit_transform(df_train.text)\n",
        "X_test = tfidf_vectorizer.transform(df_test.text)\n",
        "model = SVC(random_state=SEED)\n",
        "model.fit(X_train, y_train)\n",
        "print(score(model))\n"
      ],
      "execution_count": 4,
      "outputs": [
        {
          "output_type": "stream",
          "text": [
            "Accuracy: 0.75325\n",
            "              precision    recall  f1-score   support\n",
            "\n",
            "           0       0.75      0.76      0.76      2000\n",
            "           4       0.76      0.74      0.75      2000\n",
            "\n",
            "    accuracy                           0.75      4000\n",
            "   macro avg       0.75      0.75      0.75      4000\n",
            "weighted avg       0.75      0.75      0.75      4000\n",
            "\n",
            "Accuracy: 0.7625\n",
            "              precision    recall  f1-score   support\n",
            "\n",
            "           0       0.76      0.76      0.76      2000\n",
            "           4       0.76      0.76      0.76      2000\n",
            "\n",
            "    accuracy                           0.76      4000\n",
            "   macro avg       0.76      0.76      0.76      4000\n",
            "weighted avg       0.76      0.76      0.76      4000\n",
            "\n"
          ],
          "name": "stdout"
        }
      ]
    },
    {
      "cell_type": "markdown",
      "metadata": {
        "id": "LORc2vAyYAnd",
        "colab_type": "text"
      },
      "source": [
        "Baseline 3"
      ]
    },
    {
      "cell_type": "code",
      "metadata": {
        "id": "4E0Q80pjYADr",
        "colab_type": "code",
        "colab": {
          "base_uri": "https://localhost:8080/",
          "height": 353
        },
        "outputId": "94abcda2-98df-436f-d928-90fcb3d5a4bb"
      },
      "source": [
        "tfidf_vectorizer = TfidfVectorizer(ngram_range=(1, 4))\n",
        "X_train_tfidf = tfidf_vectorizer.fit_transform(df_train.text)\n",
        "X_test_tfidf = tfidf_vectorizer.transform(df_test.text)\n",
        "\n",
        "tfidf_vectorizer_char = TfidfVectorizer(ngram_range=(3, 4), analyzer='char')\n",
        "X_train_tfidf_char = tfidf_vectorizer_char.fit_transform(df_train.text)\n",
        "X_test_tfidf_char = tfidf_vectorizer_char.transform(df_test.text)\n",
        "\n",
        "X_train = hstack((X_train_tfidf, X_train_tfidf_char))\n",
        "X_test = hstack((X_test_tfidf, X_test_tfidf_char))\n",
        "\n",
        "model = LogisticRegression(random_state=SEED, solver='liblinear')\n",
        "model.fit(X_train, y_train)\n",
        "\n",
        "print(score(model))\n",
        "\n",
        "tfidf_vectorizer = TfidfVectorizer(stop_words=stop_words,\n",
        "                                   analyzer='word',\n",
        "                                   lowercase=True,\n",
        "                                   ngram_range=(1, 2),\n",
        "                                   max_df=0.95,\n",
        "                                   min_df=4,\n",
        "                                   norm='l2',\n",
        "                                   use_idf=True)\n",
        "X_train_tfidf = tfidf_vectorizer.fit_transform(df_train.text)\n",
        "X_test_tfidf = tfidf_vectorizer.transform(df_test.text)\n",
        "\n",
        "tfidf_vectorizer_char = TfidfVectorizer(stop_words=stop_words,\n",
        "                                        analyzer='char',\n",
        "                                        lowercase=True,\n",
        "                                        ngram_range=(3, 5),\n",
        "                                        max_df=0.95,\n",
        "                                        min_df=4,\n",
        "                                        norm='l2',\n",
        "                                        use_idf=True)\n",
        "X_train_tfidf_char = tfidf_vectorizer_char.fit_transform(df_train.text)\n",
        "X_test_tfidf_char = tfidf_vectorizer_char.transform(df_test.text)\n",
        "\n",
        "X_train = hstack((X_train_tfidf, X_train_tfidf_char))\n",
        "X_test = hstack((X_test_tfidf, X_test_tfidf_char))\n",
        "\n",
        "model = SVC(random_state=SEED)\n",
        "model.fit(X_train, y_train)\n",
        "\n",
        "print(score(model))\n"
      ],
      "execution_count": 14,
      "outputs": [
        {
          "output_type": "stream",
          "text": [
            "Accuracy: 0.7635\n",
            "              precision    recall  f1-score   support\n",
            "\n",
            "           0       0.76      0.77      0.76      2000\n",
            "           4       0.77      0.76      0.76      2000\n",
            "\n",
            "    accuracy                           0.76      4000\n",
            "   macro avg       0.76      0.76      0.76      4000\n",
            "weighted avg       0.76      0.76      0.76      4000\n",
            "\n",
            "Accuracy: 0.76425\n",
            "              precision    recall  f1-score   support\n",
            "\n",
            "           0       0.76      0.77      0.77      2000\n",
            "           4       0.77      0.75      0.76      2000\n",
            "\n",
            "    accuracy                           0.76      4000\n",
            "   macro avg       0.76      0.76      0.76      4000\n",
            "weighted avg       0.76      0.76      0.76      4000\n",
            "\n"
          ],
          "name": "stdout"
        }
      ]
    },
    {
      "cell_type": "markdown",
      "metadata": {
        "id": "xwZznyehrIC_",
        "colab_type": "text"
      },
      "source": [
        "Baseline 4"
      ]
    },
    {
      "cell_type": "code",
      "metadata": {
        "id": "KyqcoheErL45",
        "colab_type": "code",
        "colab": {
          "base_uri": "https://localhost:8080/",
          "height": 353
        },
        "outputId": "59245fc4-3fb9-477a-d736-07761c0aa523"
      },
      "source": [
        "tfidf_vectorizer = TfidfVectorizer(ngram_range=(1, 4))\n",
        "X_train_tfidf = tfidf_vectorizer.fit_transform(df_train.text)\n",
        "X_test_tfidf = tfidf_vectorizer.transform(df_test.text)\n",
        "\n",
        "tfidf_vectorizer_char = TfidfVectorizer(ngram_range=(3, 4), analyzer='char')\n",
        "X_train_tfidf_char = tfidf_vectorizer_char.fit_transform(df_train.text)\n",
        "X_test_tfidf_char = tfidf_vectorizer_char.transform(df_test.text)\n",
        "\n",
        "X_train_vectors = csr_matrix([nlp(twi_text).vector\n",
        "                              for twi_text in df_train.text])\n",
        "X_test_vectors = csr_matrix([nlp(twi_text).vector\n",
        "                             for twi_text in df_test.text])\n",
        "X_train = hstack((X_train_tfidf, X_train_tfidf_char, X_train_vectors))\n",
        "X_test = hstack((X_test_tfidf, X_test_tfidf_char, X_test_vectors))\n",
        "\n",
        "model = LogisticRegression(random_state=SEED, solver='liblinear')\n",
        "model.fit(X_train, y_train)\n",
        "\n",
        "print(score(model))\n",
        "\n",
        "tfidf_vectorizer = TfidfVectorizer(stop_words=stop_words,\n",
        "                                   analyzer='word',\n",
        "                                   lowercase=True,\n",
        "                                   ngram_range=(1, 2),\n",
        "                                   max_df=0.95,\n",
        "                                   min_df=4,\n",
        "                                   norm='l2',\n",
        "                                   use_idf=True)\n",
        "X_train_tfidf = tfidf_vectorizer.fit_transform(df_train.text)\n",
        "X_test_tfidf = tfidf_vectorizer.transform(df_test.text)\n",
        "\n",
        "tfidf_vectorizer_char = TfidfVectorizer(stop_words=stop_words,\n",
        "                                        analyzer='char',\n",
        "                                        lowercase=True,\n",
        "                                        ngram_range=(3, 5),\n",
        "                                        max_df=0.95,\n",
        "                                        min_df=4,\n",
        "                                        norm='l2',\n",
        "                                        use_idf=True)\n",
        "X_train_tfidf_char = tfidf_vectorizer_char.fit_transform(df_train.text)\n",
        "X_test_tfidf_char = tfidf_vectorizer_char.transform(df_test.text)\n",
        "\n",
        "X_train_vectors = csr_matrix([nlp(twi_text).vector\n",
        "                              for twi_text in df_train.text])\n",
        "X_test_vectors = csr_matrix([nlp(twi_text).vector\n",
        "                             for twi_text in df_test.text])\n",
        "X_train = hstack((X_train_tfidf, X_train_tfidf_char, X_train_vectors))\n",
        "X_test = hstack((X_test_tfidf, X_test_tfidf_char, X_test_vectors))\n",
        "\n",
        "model = LogisticRegression(random_state=SEED, solver='liblinear')\n",
        "model.fit(X_train, y_train)\n",
        "\n",
        "print(score(model))\n"
      ],
      "execution_count": 6,
      "outputs": [
        {
          "output_type": "stream",
          "text": [
            "Accuracy: 0.777\n",
            "              precision    recall  f1-score   support\n",
            "\n",
            "           0       0.77      0.79      0.78      2000\n",
            "           4       0.78      0.76      0.77      2000\n",
            "\n",
            "    accuracy                           0.78      4000\n",
            "   macro avg       0.78      0.78      0.78      4000\n",
            "weighted avg       0.78      0.78      0.78      4000\n",
            "\n",
            "Accuracy: 0.78125\n",
            "              precision    recall  f1-score   support\n",
            "\n",
            "           0       0.78      0.79      0.78      2000\n",
            "           4       0.79      0.77      0.78      2000\n",
            "\n",
            "    accuracy                           0.78      4000\n",
            "   macro avg       0.78      0.78      0.78      4000\n",
            "weighted avg       0.78      0.78      0.78      4000\n",
            "\n"
          ],
          "name": "stdout"
        }
      ]
    },
    {
      "cell_type": "code",
      "metadata": {
        "id": "0uPjYtUogaIU",
        "colab_type": "code",
        "colab": {}
      },
      "source": [
        "# тут пыталась сделать препроцессинг для разных бейзлайнов, но нигде особо\n",
        "# accuracy не повышалось (и я делала это в пайчарме, тут оочень долго работает)\n",
        "\n",
        "import regex as re\n",
        "import nltk\n",
        "from pymystem3 import Mystem\n",
        "from string import punctuation\n",
        "from nltk.corpus import stopwords\n",
        "\n",
        "russian_stemmer = nltk.stem.snowball.SnowballStemmer(\"russian\")\n",
        "lemmatizer = Mystem()\n",
        "russian_stopwords = stopwords.words('russian')\n",
        "\n",
        "\n",
        "def remove_stowords(text):\n",
        "    text = [word for word in text.split()\n",
        "            if word.lower() not in russian_stopwords]\n",
        "    return ' '.join(text)\n",
        "\n",
        "\n",
        "def remove_punctuation_and_make_lowercase(text):\n",
        "    sentences = [(sentence.translate\n",
        "                 (str.maketrans('', '', punctuation))).lower()\n",
        "                 for sentence in text.split()]\n",
        "    return ' '.join(sentences)\n",
        "\n",
        "\n",
        "def lemmatization(text):\n",
        "    text = lemmatizer.lemmatize(text)\n",
        "    return ' '.join(text)\n",
        "\n",
        "\n",
        "def stemmatize(text):\n",
        "    text = [russian_stemmer.stem(word) for word in text.split()]\n",
        "    return ' '.join(text)\n",
        "\n",
        "\n",
        "def corpora_with_stemmed_column(data):\n",
        "    new_column = pd.DataFrame(columns=['stemmed_text'])\n",
        "    for text in list(data['text']):\n",
        "        stemmed_text = stemmatize(\n",
        "            lemmatization(remove_punctuation_and_make_lowercase\n",
        "                          (remove_stowords(text))))\n",
        "        df = pd.DataFrame({'stemmed_text': stemmed_text}, index=[0])\n",
        "        new_column = new_column.append(df, ignore_index=True)\n",
        "    data['stemmed_text'] = list(new_column['stemmed_text'])\n",
        "\n",
        "    return data\n",
        "\n",
        "stemmed_data = corpora_with_stemmed_column(df)\n"
      ],
      "execution_count": null,
      "outputs": []
    }
  ]
}