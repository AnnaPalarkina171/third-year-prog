{
  "nbformat": 4,
  "nbformat_minor": 0,
  "metadata": {
    "kernelspec": {
      "display_name": "Python 3",
      "language": "python",
      "name": "python3"
    },
    "language_info": {
      "codemirror_mode": {
        "name": "ipython",
        "version": 3
      },
      "file_extension": ".py",
      "mimetype": "text/x-python",
      "name": "python",
      "nbconvert_exporter": "python",
      "pygments_lexer": "ipython3",
      "version": "3.7.4"
    },
    "colab": {
      "name": "kontr2_var3.ipynb",
      "provenance": []
    }
  },
  "cells": [
    {
      "cell_type": "markdown",
      "metadata": {
        "id": "16ukkcNUVxTc",
        "colab_type": "text"
      },
      "source": [
        "# Контрольная номер 2. Вариант 3\n"
      ]
    },
    {
      "cell_type": "markdown",
      "metadata": {
        "id": "CRf7iNTpVxTe",
        "colab_type": "text"
      },
      "source": [
        "https://archive.ics.uci.edu/ml/datasets/Adult - датасет с социодемографической информацией о взрослых жителях некоторых стран.\n",
        "\n",
        "\n",
        "## Задание 1 (1 балл)\n",
        "\n",
        "Загрузите выборку (https://archive.ics.uci.edu/ml/machine-learning-databases/adult/adult.data) в dataframe (без признака `fnlwgt`)."
      ]
    },
    {
      "cell_type": "code",
      "metadata": {
        "id": "slGXCzGm7y36",
        "colab_type": "code",
        "colab": {}
      },
      "source": [
        "import pandas as pd\n",
        "from sklearn.model_selection import train_test_split\n",
        "from sklearn.ensemble import RandomForestClassifier\n",
        "from sklearn.model_selection import KFold, GridSearchCV\n",
        "import numpy as np"
      ],
      "execution_count": 0,
      "outputs": []
    },
    {
      "cell_type": "code",
      "metadata": {
        "id": "29KxORCcc1V1",
        "colab_type": "code",
        "colab": {}
      },
      "source": [
        "data = pd.read_csv('adult.data', delimiter=',', names = ['age', 'workclass', 'fnlwgt','education','education-num', 'marital-status','occupation', 'relationship', 'race','sex', 'capital-gain','capital-loss','hours-per-week','native-country','numbers'])\n",
        "data = data.drop(columns=['fnlwgt'])"
      ],
      "execution_count": 0,
      "outputs": []
    },
    {
      "cell_type": "markdown",
      "metadata": {
        "id": "uQn3sm3dVxTf",
        "colab_type": "text"
      },
      "source": [
        "## Задание 2 (2 балла)\n",
        "\n",
        "Используя pandas и датасет, ответьте на вопросы:\n",
        "\n",
        "1. У какого workclass доход чаще всего превышает 50K (1 балл)?\n",
        "2. Постройте график зависимости доли людей с доходом больше 50K от возраста (1 балл)."
      ]
    },
    {
      "cell_type": "code",
      "metadata": {
        "id": "V72Q5Y5qw5sg",
        "colab_type": "code",
        "colab": {
          "base_uri": "https://localhost:8080/",
          "height": 106
        },
        "outputId": "1da33bcd-ba17-43d4-d0cf-91458639453c"
      },
      "source": [
        "new_data = data[['workclass','numbers']]\n",
        "[new_data['numbers'] == '>50K'] \n",
        "cross = pd.crosstab(new_data.workclass,\n",
        "                    new_data.numbers,normalize=False).apply(lambda r: r/r.sum(),\n",
        "                                                            axis =1)\n",
        "work = pd.DataFrame(cross[' >50K'].sort_values(ascending=False))\n",
        "work.head(1)"
      ],
      "execution_count": 23,
      "outputs": [
        {
          "output_type": "execute_result",
          "data": {
            "text/html": [
              "<div>\n",
              "<style scoped>\n",
              "    .dataframe tbody tr th:only-of-type {\n",
              "        vertical-align: middle;\n",
              "    }\n",
              "\n",
              "    .dataframe tbody tr th {\n",
              "        vertical-align: top;\n",
              "    }\n",
              "\n",
              "    .dataframe thead th {\n",
              "        text-align: right;\n",
              "    }\n",
              "</style>\n",
              "<table border=\"1\" class=\"dataframe\">\n",
              "  <thead>\n",
              "    <tr style=\"text-align: right;\">\n",
              "      <th></th>\n",
              "      <th>&gt;50K</th>\n",
              "    </tr>\n",
              "    <tr>\n",
              "      <th>workclass</th>\n",
              "      <th></th>\n",
              "    </tr>\n",
              "  </thead>\n",
              "  <tbody>\n",
              "    <tr>\n",
              "      <th>Self-emp-inc</th>\n",
              "      <td>0.557348</td>\n",
              "    </tr>\n",
              "  </tbody>\n",
              "</table>\n",
              "</div>"
            ],
            "text/plain": [
              "                   >50K\n",
              "workclass              \n",
              " Self-emp-inc  0.557348"
            ]
          },
          "metadata": {
            "tags": []
          },
          "execution_count": 23
        }
      ]
    },
    {
      "cell_type": "markdown",
      "metadata": {
        "id": "mYBI_wgsVxTg",
        "colab_type": "text"
      },
      "source": [
        "## Задание 3  (1 балл)\n",
        "\n",
        "Преобразуйте категориальные признаки в бинарные.\n",
        "\n",
        "Разделите выборку на тренировочную и тестовую (80%/20%) с сохранением баланса классов.\n"
      ]
    },
    {
      "cell_type": "code",
      "metadata": {
        "id": "QBpEcjWEdC9G",
        "colab_type": "code",
        "colab": {}
      },
      "source": [
        "data = pd.get_dummies(data, drop_first=True)\n",
        "\n",
        "target = data['numbers_ >50K']\n",
        "X = data.drop(columns=['numbers_ >50K'])\n",
        "x_train, x_test, y_train, y_test = train_test_split(X, target,\n",
        "                                                    test_size=0.2,\n",
        "                                                    stratify=target)"
      ],
      "execution_count": 0,
      "outputs": []
    },
    {
      "cell_type": "markdown",
      "metadata": {
        "id": "xn2F_WPIVxTh",
        "colab_type": "text"
      },
      "source": [
        "## Задание 4 (3 балла)\n",
        "\n",
        "Используя обучающую выборку, подберите модель `sklearn.ensemble.RandomForestClassifier`. Использйте стратегию k-fold и перебор параметров (например, поэксперементируйте с числом деревьев и максимальной глубиной дерева) через gridsearchcv.\n",
        "\n",
        "Если модели слишком долго обучаются, допускается уменьшить количество объектов в обучающей выборке до 5000-10000 с сохранением баланса классов (если качество модели станет хуже, не страшно), изменив долю тренировочной выборки в задании 3.\n",
        "\n",
        "Выведите 3 самых важных признака, а также precision и recall на тестовой выборке."
      ]
    },
    {
      "cell_type": "code",
      "metadata": {
        "id": "NprbFL7X8BPC",
        "colab_type": "code",
        "colab": {}
      },
      "source": [
        "y = target\n",
        "kf = KFold(n_splits=4)\n",
        "model = RandomForestClassifier()\n",
        "\n",
        "max_depth = [int(x) for x in np.linspace(10, 110, num = 11)]\n",
        "max_depth.append(None)\n",
        "\n",
        "n_estimators = [int(x) for x in np.linspace(start = 20, stop = 200, num = 10)]\n",
        "\n",
        "param_grid = {'n_estimators': n_estimators,\n",
        "               'max_depth': max_depth}\n",
        "\n",
        "grid = GridSearchCV(estimator=model,\n",
        "                        param_grid=param_grid,\n",
        "                        cv=kf,\n",
        "                        n_jobs=-1,\n",
        "                        iid=True)\n",
        "grid_result = grid.fit(X, y)\n",
        "\n",
        "model = RandomForestClassifier( n_estimators = grid_result.best_params_['n_estimators'],max_depth = grid_result.best_params_['max_depth'] )\n",
        "model.fit(X_train, y_train)\n",
        "model.score(X_test,y_test)"
      ],
      "execution_count": 0,
      "outputs": []
    },
    {
      "cell_type": "code",
      "metadata": {
        "id": "u8laWP0U8dWh",
        "colab_type": "code",
        "colab": {}
      },
      "source": [
        ""
      ],
      "execution_count": 0,
      "outputs": []
    },
    {
      "cell_type": "markdown",
      "metadata": {
        "id": "IeSRpmv58Xlr",
        "colab_type": "text"
      },
      "source": [
        "некоторые параметры для грида нашла [тут](https://towardsdatascience.com/hyperparameter-tuning-the-random-forest-in-python-using-scikit-learn-28d2aa77dd74)"
      ]
    },
    {
      "cell_type": "markdown",
      "metadata": {
        "id": "1tSjWDmJVxTi",
        "colab_type": "text"
      },
      "source": [
        "## Задание 5 (1.5 балла)\n",
        "\n",
        "На графике востановленная моделью зависисмость y от x. Что вы можете сказать про качество обучения модели? Насколько качественно модель будет работать на тестовых данных? Почему вы так думаете?\n",
        "![](https://www.dropbox.com/s/0ji82ed0oob6rhi/1_3.png?dl=1)"
      ]
    },
    {
      "cell_type": "markdown",
      "metadata": {
        "id": "VyF5d9ftVxTk",
        "colab_type": "text"
      },
      "source": [
        "## Задание 6 (1.5 балла)\n",
        "Вы обучили вот такую модель. Качество на тестовой выборке плохое. Как вы думаете почему? Какой параметр стоило бы поменять в первую очередь, чтобы это исправить? На что он влияет?\n",
        "![img](https://www.dropbox.com/s/8fc009exoftnpep/3_3.png?dl=1)"
      ]
    },
    {
      "cell_type": "code",
      "metadata": {
        "id": "gSMKv3FYVxTl",
        "colab_type": "code",
        "colab": {}
      },
      "source": [
        "Стоит указать больше уровней максимальной глубины и n_estimators"
      ],
      "execution_count": 0,
      "outputs": []
    }
  ]
}