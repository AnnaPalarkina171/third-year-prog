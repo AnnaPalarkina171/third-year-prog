{
  "nbformat": 4,
  "nbformat_minor": 0,
  "metadata": {
    "colab": {
      "name": "1.ipynb",
      "provenance": []
    },
    "kernelspec": {
      "name": "python3",
      "display_name": "Python 3"
    }
  },
  "cells": [
    {
      "cell_type": "code",
      "metadata": {
        "id": "EUe05WFmmpVG",
        "colab_type": "code",
        "colab": {}
      },
      "source": [
        "import numpy as np\n",
        "import pandas as pd\n",
        "from sklearn.tree import DecisionTreeRegressor\n",
        "from sklearn.datasets import load_diabetes\n",
        "from sklearn.model_selection import train_test_split\n",
        "\n",
        "SEED = 22\n",
        "np.random.seed(SEED)"
      ],
      "execution_count": 0,
      "outputs": []
    },
    {
      "cell_type": "code",
      "metadata": {
        "id": "WEL6329vm2S3",
        "colab_type": "code",
        "outputId": "df8a2994-9bb5-4cfc-8a9e-13493be9ea6d",
        "colab": {
          "base_uri": "https://localhost:8080/",
          "height": 34
        }
      },
      "source": [
        "class SimpleGBRegressor:\n",
        "\n",
        "    def __init__(self, n_estimators=10, max_depth=5, \n",
        "                 min_samples_leaf=1, learning_rate=0.1, \n",
        "                 random_state=None):\n",
        "        self.n_estimators = n_estimators\n",
        "        self.max_depth = max_depth\n",
        "        self.min_samples_leaf = min_samples_leaf\n",
        "        self.learning_rate = learning_rate\n",
        "        self.random_state = random_state\n",
        "        self.trees = []\n",
        "        self.was_fit = False\n",
        "\n",
        "    def fit(self, X, y):\n",
        "        # убедиться что в X и y одинаковое число элементов\n",
        "        assert X.shape[0] == y.shape[0]\n",
        "        # не уверена, какой из вариантов лучше, поэтому вот второй:\n",
        "        # assert len(X) == len(y)\n",
        "        \n",
        "        # инициализировать массив с предсказаниями, заполнив нулями\n",
        "        prediction = np.zeros(y.shape)\n",
        "\n",
        "        # обучаем деревья\n",
        "        for i in range(self.n_estimators):\n",
        "            # посчитать остатки\n",
        "            residual = y - prediction\n",
        "\n",
        "            # инициализировать дерево с нужными параметрами\n",
        "            tree = DecisionTreeRegressor(max_depth=self.max_depth,\n",
        "                                         min_samples_leaf=self.min_samples_leaf,\n",
        "                                         random_state=self.random_state)\n",
        "\n",
        "            # обучить дерево\n",
        "            tree.fit(X, residual)\n",
        "\n",
        "            # сделать предсказание текущего дерева\n",
        "            tree_prediction = tree.predict(X)\n",
        "\n",
        "            # сохранить обученное дерево\n",
        "            self.trees.append(tree)\n",
        "\n",
        "            # обновить вектор предсказаний модели\n",
        "            prediction += self.learning_rate * tree_prediction\n",
        "\n",
        "        self.was_fit = True\n",
        "        return self\n",
        "\n",
        "    def predict(self, X):\n",
        "        # если модель не была обучена, печатаем сообщение об этом и вовращаем None\n",
        "        if self.was_fit == False:\n",
        "            return None\n",
        "\n",
        "        # инициализировать массив с предсказаниями\n",
        "        y_pred = np.zeros(X.shape[0])\n",
        "\n",
        "        # добавить прогнозы деревьев\n",
        "        for tree in self.trees:\n",
        "            y_pred += self.learning_rate * tree.predict(X)\n",
        "\n",
        "        # убедиться что в X и y одинаковое число элементов\n",
        "        # снова не уверена, какой вариант лучше, поэтому:\n",
        "        assert X.shape[0] == y_pred.shape[0]\n",
        "        return y_pred\n",
        "\n",
        "\n",
        "diabetes = load_diabetes()\n",
        "data = pd.DataFrame(diabetes['data'], columns=diabetes['feature_names'])\n",
        "target = diabetes.target\n",
        "X_train, X_test, y_train, y_test = train_test_split(data,target,\n",
        "                                                    test_size=0.3,\n",
        "                                                    random_state=SEED)\n",
        "regressor = SimpleGBRegressor(n_estimators = 100, random_state=SEED)\n",
        "regressor.fit(X_train,y_train)\n",
        "y_pred = regressor.predict(X_test)\n",
        "mse = np.mean((y_test - y_pred) ** 2)\n",
        "print('MSE: ',mse)\n",
        "\n",
        " "
      ],
      "execution_count": 40,
      "outputs": [
        {
          "output_type": "stream",
          "text": [
            "MSE:  3749.674167308474\n"
          ],
          "name": "stdout"
        }
      ]
    },
    {
      "cell_type": "code",
      "metadata": {
        "id": "zONH1O_asnVG",
        "colab_type": "code",
        "outputId": "efe5022e-2f4d-4181-f5fb-51197fca4545",
        "colab": {
          "base_uri": "https://localhost:8080/",
          "height": 34
        }
      },
      "source": [
        "from sklearn.ensemble import GradientBoostingRegressor\n",
        "\n",
        "#сравниваем с реализацией аналогичного алгоритма\n",
        "sklearn_model = GradientBoostingRegressor(learning_rate=0.1, \n",
        "                                          max_depth=5,\n",
        "                                          min_samples_leaf=1,\n",
        "                                          n_estimators = 100,\n",
        "                                          random_state=SEED)\n",
        "sklearn_model.fit(X_train,y_train)\n",
        "y_pred_sklearn = sklearn_model.predict(X_test)\n",
        "mse = np.mean((y_test - y_pred_sklearn)**2)\n",
        "print(mse)"
      ],
      "execution_count": 41,
      "outputs": [
        {
          "output_type": "stream",
          "text": [
            "3725.914043073783\n"
          ],
          "name": "stdout"
        }
      ]
    }
  ]
}